{
 "cells": [
  {
   "cell_type": "markdown",
   "id": "171f406b-16be-405c-a5c6-b791d4931a40",
   "metadata": {},
   "source": [
    "# Data Science Tools Ecosystem"
   ]
  },
  {
   "cell_type": "markdown",
   "id": "9b84d861-4015-43da-8f0b-a00500b6e25a",
   "metadata": {},
   "source": [
    "In this notebook, Data Science Tools and Ecosystem are summarized."
   ]
  },
  {
   "cell_type": "markdown",
   "id": "073ac2eb-ca46-471f-8b9f-6b6773d8f4b5",
   "metadata": {},
   "source": [
    "Some of the popular languages that Data Scientists use are:\n",
    "1. Python\n",
    "2. Julia\n",
    "3. Scala"
   ]
  },
  {
   "cell_type": "markdown",
   "id": "86cdb306-d4ec-4c8b-ad37-2aad881d9e83",
   "metadata": {},
   "source": [
    "Some of the commonly used libraies used by Data Scientist include:\n",
    "1. Pandas\n",
    "2. Matplotlib\n",
    "3. Numpy\n",
    "4. Seaborn"
   ]
  },
  {
   "cell_type": "markdown",
   "id": "726aa482-a1c7-4727-86e2-1722a9e703f3",
   "metadata": {},
   "source": [
    "| Data Science Tools |\n",
    "|--------------------|\n",
    "| SQL                |\n",
    "| MangoDB            |\n",
    "| Apache SparkML     |\n",
    "| Github             |"
   ]
  },
  {
   "cell_type": "markdown",
   "id": "383c1a83-0ca3-4a59-bd2c-73e94e373673",
   "metadata": {},
   "source": [
    "### Below are a few examples of evaluating arithmetic expressions in Python"
   ]
  },
  {
   "cell_type": "code",
   "execution_count": 1,
   "id": "5c04ec33-3742-4531-9245-6aca5849c0a9",
   "metadata": {},
   "outputs": [
    {
     "data": {
      "text/plain": [
       "17"
      ]
     },
     "execution_count": 1,
     "metadata": {},
     "output_type": "execute_result"
    }
   ],
   "source": [
    "#This is a simple arithmetic expression to multiply then add integers\n",
    "(3*4)+5"
   ]
  },
  {
   "cell_type": "code",
   "execution_count": 2,
   "id": "f3d71a7d-ec6d-4c74-9c46-64aae16f45ad",
   "metadata": {},
   "outputs": [
    {
     "data": {
      "text/plain": [
       "3.3333333333333335"
      ]
     },
     "execution_count": 2,
     "metadata": {},
     "output_type": "execute_result"
    }
   ],
   "source": [
    "#This will convert 200 minutes to hours by dividing by 60.\n",
    "200/60"
   ]
  },
  {
   "cell_type": "markdown",
   "id": "d6a8012a-0f3a-445c-bd18-d5a1d1d514e6",
   "metadata": {},
   "source": [
    "**Objectives:**\n",
    "- Python\n",
    "- Julia\n",
    "- SQL\n",
    "- Arithmetic expressions\n",
    "- Comments"
   ]
  },
  {
   "cell_type": "markdown",
   "id": "59590419-0a78-49bd-9bbc-deb0ae6662a6",
   "metadata": {},
   "source": [
    "## Susil Bhattarai\n"
   ]
  },
  {
   "cell_type": "code",
   "execution_count": null,
   "id": "272bd41d-71c5-4ea4-8bdc-88bb52770160",
   "metadata": {},
   "outputs": [],
   "source": []
  }
 ],
 "metadata": {
  "kernelspec": {
   "display_name": "Python 3 (ipykernel)",
   "language": "python",
   "name": "python3"
  },
  "language_info": {
   "codemirror_mode": {
    "name": "ipython",
    "version": 3
   },
   "file_extension": ".py",
   "mimetype": "text/x-python",
   "name": "python",
   "nbconvert_exporter": "python",
   "pygments_lexer": "ipython3",
   "version": "3.12.1"
  }
 },
 "nbformat": 4,
 "nbformat_minor": 5
}
